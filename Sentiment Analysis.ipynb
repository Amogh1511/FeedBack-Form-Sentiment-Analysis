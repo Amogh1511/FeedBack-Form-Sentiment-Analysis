{
 "cells": [
  {
   "cell_type": "code",
   "execution_count": null,
   "id": "aa8959aa-0d0a-41ca-8583-c4d40f474c0b",
   "metadata": {},
   "outputs": [],
   "source": [
    "import streamlit as st\n",
    "from PIL import Image\n",
    "import pytesseract\n",
    "from pdf2image import convert_from_path  #PyMuPDF\n",
    "from transformers import AutoModelForSequenceClassification, AutoTokenizer\n",
    "import torch\n",
    "import numpy as np\n",
    "import os\n",
    "import fitz  #imports PyMuPDF\n",
    "from docx import Document"
   ]
  },
  {
   "cell_type": "code",
   "execution_count": null,
   "id": "9d7f838a-c808-4072-92b9-3774950d3157",
   "metadata": {},
   "outputs": [],
   "source": [
    "#Tesseract path (only required for local Windows users)\n",
    "pytesseract.pytesseract.tesseract_cmd = r\"C:\\Program Files\\Tesseract-OCR\\tesseract.exe\"  # Change if you're on Windows\n",
    "\n",
    "# Load pre-trained sentiment model\n",
    "model_name = \"nlptown/bert-base-multilingual-uncased-sentiment\"\n",
    "tokenizer = AutoTokenizer.from_pretrained(model_name)\n",
    "model = AutoModelForSequenceClassification.from_pretrained(model_name)\n",
    "device = torch.device(\"cpu\")\n",
    "model.to(device)"
   ]
  },
  {
   "cell_type": "code",
   "execution_count": null,
   "id": "735037cd-027c-4569-a295-2aea54712234",
   "metadata": {},
   "outputs": [],
   "source": [
    "#Text Extraction Functions\n",
    "def extract_text_from_image(image):\n",
    "    return pytesseract.image_to_string(image).strip()\n",
    "\n",
    "def extract_text_from_pdf(pdf_path):\n",
    "    text = \"\"\n",
    "    doc = fitz.open(pdf_path)\n",
    "    for page in doc:\n",
    "        text += page.get_text()\n",
    "    return text.strip()\n",
    "\n",
    "def extract_text_from_docx(docx_path):\n",
    "    doc = Document(docx_path)\n",
    "    return \"\\n\".join([para.text for para in doc.paragraphs]).strip()\n",
    "\n",
    "# ---- SENTIMENT PREDICTION FUNCTION ----\n",
    "def predict_sentiment(text):\n",
    "    inputs = tokenizer(text, return_tensors=\"pt\", truncation=True, padding=True, max_length=512)\n",
    "    inputs = {key: val.to(device) for key, val in inputs.items()}\n",
    "\n",
    "    with torch.no_grad():\n",
    "        outputs = model(**inputs)\n",
    "\n",
    "    logits = outputs.logits\n",
    "    probs = torch.nn.functional.softmax(logits, dim=-1).cpu().numpy()[0]\n",
    "\n",
    "    sentiment_labels = [\"Very Negative\", \"Negative\", \"Neutral\", \"Positive\", \"Very Positive\"]\n",
    "    predicted_label = sentiment_labels[np.argmax(probs)]\n",
    "    confidence = round(np.max(probs) * 100, 2)\n",
    "\n",
    "    return predicted_label, confidence"
   ]
  },
  {
   "cell_type": "code",
   "execution_count": null,
   "id": "71839450-116a-4a3d-8a6a-e92aaf69f573",
   "metadata": {},
   "outputs": [],
   "source": [
    "#StreamLit UI\n",
    "st.set_page_config(page_title=\"Feedback Sentiment Analysis\", layout=\"centered\")\n",
    "st.title(\"📄 Feedback Form Sentiment Analysis\")\n",
    "st.write(\"Upload a feedback form (.docx, .pdf, .jpg, .png), extract text, and get sentiment analysis!\")\n",
    "\n",
    "uploaded_file = st.file_uploader(\"Upload your feedback file\", type=[\"jpg\", \"png\", \"pdf\", \"docx\"])\n",
    "\n",
    "if uploaded_file:\n",
    "    file_type = uploaded_file.name.split(\".\")[-1].lower()\n",
    "    extracted_text = \"\"\n",
    "\n",
    "    if file_type in [\"jpg\", \"png\"]:\n",
    "        image = Image.open(uploaded_file)\n",
    "        st.image(image, caption=\"Uploaded Image\", use_column_width=True)\n",
    "        extracted_text = extract_text_from_image(image)\n",
    "\n",
    "    elif file_type == \"pdf\":\n",
    "        with open(\"temp.pdf\", \"wb\") as f:\n",
    "            f.write(uploaded_file.read())\n",
    "        extracted_text = extract_text_from_pdf(\"temp.pdf\")\n",
    "        os.remove(\"temp.pdf\")\n",
    "\n",
    "    elif file_type == \"docx\":\n",
    "        with open(\"temp.docx\", \"wb\") as f:\n",
    "            f.write(uploaded_file.read())\n",
    "        extracted_text = extract_text_from_docx(\"temp.docx\")\n",
    "        os.remove(\"temp.docx\")\n",
    "\n",
    "    if extracted_text:\n",
    "        st.subheader(\"📝 Extracted Feedback Text:\")\n",
    "        st.write(extracted_text)\n",
    "\n",
    "        with st.spinner(\"Analyzing sentiment...\"):\n",
    "            sentiment, confidence = predict_sentiment(extracted_text)\n",
    "\n",
    "        st.subheader(\"📊 Sentiment Result:\")\n",
    "        st.success(f\"**Sentiment:** {sentiment}\")\n",
    "        st.info(f\"**Confidence Score:** {confidence}%\")\n",
    "    else:\n",
    "        st.w"
   ]
  },
  {
   "cell_type": "code",
   "execution_count": null,
   "id": "52847ce9-0e9d-418a-a30b-39f3ae80325e",
   "metadata": {},
   "outputs": [],
   "source": [
    "#Deployment\n",
    "#Run in terminal and host\n",
    "# Use - streamlit run Model1.py"
   ]
  }
 ],
 "metadata": {
  "kernelspec": {
   "display_name": "Python 3 (ipykernel)",
   "language": "python",
   "name": "python3"
  },
  "language_info": {
   "codemirror_mode": {
    "name": "ipython",
    "version": 3
   },
   "file_extension": ".py",
   "mimetype": "text/x-python",
   "name": "python",
   "nbconvert_exporter": "python",
   "pygments_lexer": "ipython3",
   "version": "3.12.4"
  }
 },
 "nbformat": 4,
 "nbformat_minor": 5
}
